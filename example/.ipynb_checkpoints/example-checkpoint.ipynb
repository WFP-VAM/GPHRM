{
 "cells": [
  {
   "cell_type": "code",
   "execution_count": 1,
   "metadata": {
    "collapsed": true
   },
   "outputs": [],
   "source": [
    "#import base libraries\n",
    "import sys\n",
    "import yaml\n",
    "import pandas as pd"
   ]
  },
  {
   "cell_type": "code",
   "execution_count": 2,
   "metadata": {},
   "outputs": [],
   "source": [
    "#Change parent directort to import GPHRM\n",
    "import os,sys,inspect\n",
    "currentdir = os.path.dirname(os.path.abspath(inspect.getfile(inspect.currentframe())))\n",
    "parentdir = os.path.dirname(currentdir)\n",
    "sys.path.insert(0,parentdir) "
   ]
  },
  {
   "cell_type": "code",
   "execution_count": 3,
   "metadata": {},
   "outputs": [
    {
     "name": "stderr",
     "output_type": "stream",
     "text": [
      "/home/pato/anaconda2/envs/py3/lib/python3.6/site-packages/rpy2/rinterface/__init__.py:145: RRuntimeWarning: Warning message:\n",
      "\n",
      "  warnings.warn(x, RRuntimeWarning)\n",
      "/home/pato/anaconda2/envs/py3/lib/python3.6/site-packages/rpy2/rinterface/__init__.py:145: RRuntimeWarning: package ‘methods’ was built under R version 3.4.4 \n",
      "\n",
      "  warnings.warn(x, RRuntimeWarning)\n",
      "/home/pato/anaconda2/envs/py3/lib/python3.6/site-packages/rpy2/rinterface/__init__.py:145: RRuntimeWarning: During startup - \n",
      "  warnings.warn(x, RRuntimeWarning)\n",
      "/home/pato/anaconda2/envs/py3/lib/python3.6/site-packages/rpy2/rinterface/__init__.py:145: RRuntimeWarning: Warning messages:\n",
      "\n",
      "  warnings.warn(x, RRuntimeWarning)\n",
      "/home/pato/anaconda2/envs/py3/lib/python3.6/site-packages/rpy2/rinterface/__init__.py:145: RRuntimeWarning: 1: package ‘datasets’ was built under R version 3.4.4 \n",
      "\n",
      "  warnings.warn(x, RRuntimeWarning)\n",
      "/home/pato/anaconda2/envs/py3/lib/python3.6/site-packages/rpy2/rinterface/__init__.py:145: RRuntimeWarning: 2: package ‘utils’ was built under R version 3.4.4 \n",
      "\n",
      "  warnings.warn(x, RRuntimeWarning)\n",
      "/home/pato/anaconda2/envs/py3/lib/python3.6/site-packages/rpy2/rinterface/__init__.py:145: RRuntimeWarning: 3: package ‘grDevices’ was built under R version 3.4.4 \n",
      "\n",
      "  warnings.warn(x, RRuntimeWarning)\n",
      "/home/pato/anaconda2/envs/py3/lib/python3.6/site-packages/rpy2/rinterface/__init__.py:145: RRuntimeWarning: 4: package ‘graphics’ was built under R version 3.4.4 \n",
      "\n",
      "  warnings.warn(x, RRuntimeWarning)\n",
      "/home/pato/anaconda2/envs/py3/lib/python3.6/site-packages/rpy2/rinterface/__init__.py:145: RRuntimeWarning: 5: package ‘stats’ was built under R version 3.4.4 \n",
      "\n",
      "  warnings.warn(x, RRuntimeWarning)\n",
      "/home/pato/anaconda2/envs/py3/lib/python3.6/site-packages/rpy2/rinterface/__init__.py:145: RRuntimeWarning: Loading required package: geoR\n",
      "\n",
      "  warnings.warn(x, RRuntimeWarning)\n",
      "/home/pato/anaconda2/envs/py3/lib/python3.6/site-packages/rpy2/rinterface/__init__.py:145: RRuntimeWarning: --------------------------------------------------------------\n",
      " Analysis of Geostatistical Data\n",
      " For an Introduction to geoR go to http://www.leg.ufpr.br/geoR\n",
      " geoR version 1.7-5.2 (built on 2016-05-02) is now loaded\n",
      "--------------------------------------------------------------\n",
      "\n",
      "\n",
      "  warnings.warn(x, RRuntimeWarning)\n",
      "/home/pato/anaconda2/envs/py3/lib/python3.6/site-packages/rpy2/rinterface/__init__.py:145: RRuntimeWarning: Loading required package: maxLik\n",
      "\n",
      "  warnings.warn(x, RRuntimeWarning)\n",
      "/home/pato/anaconda2/envs/py3/lib/python3.6/site-packages/rpy2/rinterface/__init__.py:145: RRuntimeWarning: Loading required package: miscTools\n",
      "\n",
      "  warnings.warn(x, RRuntimeWarning)\n",
      "/home/pato/anaconda2/envs/py3/lib/python3.6/site-packages/rpy2/rinterface/__init__.py:145: RRuntimeWarning: \n",
      "Please cite the 'maxLik' package as:\n",
      "Henningsen, Arne and Toomet, Ott (2011). maxLik: A package for maximum likelihood estimation in R. Computational Statistics 26(3), 443-458. DOI 10.1007/s00180-010-0217-1.\n",
      "\n",
      "If you have questions, suggestions, or comments regarding the 'maxLik' package, please use a forum or 'tracker' at maxLik's R-Forge site:\n",
      "https://r-forge.r-project.org/projects/maxlik/\n",
      "\n",
      "  warnings.warn(x, RRuntimeWarning)\n",
      "/home/pato/anaconda2/envs/py3/lib/python3.6/site-packages/rpy2/rinterface/__init__.py:145: RRuntimeWarning: Loading required package: raster\n",
      "\n",
      "  warnings.warn(x, RRuntimeWarning)\n",
      "/home/pato/anaconda2/envs/py3/lib/python3.6/site-packages/rpy2/rinterface/__init__.py:145: RRuntimeWarning: Loading required package: sp\n",
      "\n",
      "  warnings.warn(x, RRuntimeWarning)\n",
      "/home/pato/anaconda2/envs/py3/lib/python3.6/site-packages/rpy2/rinterface/__init__.py:145: RRuntimeWarning: Loading required package: pdist\n",
      "\n",
      "  warnings.warn(x, RRuntimeWarning)\n",
      "/home/pato/anaconda2/envs/py3/lib/python3.6/site-packages/rpy2/rinterface/__init__.py:145: RRuntimeWarning: Loading required package: Matrix\n",
      "\n",
      "  warnings.warn(x, RRuntimeWarning)\n",
      "/home/pato/anaconda2/envs/py3/lib/python3.6/site-packages/rpy2/rinterface/__init__.py:145: RRuntimeWarning: Loading required package: foreach\n",
      "\n",
      "  warnings.warn(x, RRuntimeWarning)\n",
      "/home/pato/anaconda2/envs/py3/lib/python3.6/site-packages/rpy2/rinterface/__init__.py:145: RRuntimeWarning: foreach: simple, scalable parallel programming from Revolution Analytics\n",
      "Use Revolution R for scalability, fault tolerance and more.\n",
      "http://www.revolutionanalytics.com\n",
      "\n",
      "  warnings.warn(x, RRuntimeWarning)\n",
      "/home/pato/anaconda2/envs/py3/lib/python3.6/site-packages/rpy2/rinterface/__init__.py:145: RRuntimeWarning: Loading required package: iterators\n",
      "\n",
      "  warnings.warn(x, RRuntimeWarning)\n",
      "/home/pato/anaconda2/envs/py3/lib/python3.6/site-packages/rpy2/rinterface/__init__.py:145: RRuntimeWarning: Loading required package: parallel\n",
      "\n",
      "  warnings.warn(x, RRuntimeWarning)\n",
      "/home/pato/anaconda2/envs/py3/lib/python3.6/site-packages/rpy2/rinterface/__init__.py:145: RRuntimeWarning: Loading required package: lattice\n",
      "\n",
      "  warnings.warn(x, RRuntimeWarning)\n",
      "/home/pato/anaconda2/envs/py3/lib/python3.6/site-packages/rpy2/rinterface/__init__.py:145: RRuntimeWarning: Loading required package: ggplot2\n",
      "\n",
      "  warnings.warn(x, RRuntimeWarning)\n",
      "/home/pato/anaconda2/envs/py3/lib/python3.6/site-packages/rpy2/rinterface/__init__.py:145: RRuntimeWarning: Find out what's changed in ggplot2 at\n",
      "https://github.com/tidyverse/ggplot2/releases.\n",
      "\n",
      "  warnings.warn(x, RRuntimeWarning)\n",
      "/home/pato/anaconda2/envs/py3/lib/python3.6/site-packages/rpy2/rinterface/__init__.py:145: RRuntimeWarning: Loaded glmnet 2.0-13\n",
      "\n",
      "\n",
      "  warnings.warn(x, RRuntimeWarning)\n",
      "/home/pato/anaconda2/envs/py3/lib/python3.6/site-packages/rpy2/rinterface/__init__.py:145: RRuntimeWarning: \n",
      "Attaching package: ‘MASS’\n",
      "\n",
      "\n",
      "  warnings.warn(x, RRuntimeWarning)\n",
      "/home/pato/anaconda2/envs/py3/lib/python3.6/site-packages/rpy2/rinterface/__init__.py:145: RRuntimeWarning: The following objects are masked from ‘package:raster’:\n",
      "\n",
      "    area, select\n",
      "\n",
      "\n",
      "  warnings.warn(x, RRuntimeWarning)\n"
     ]
    }
   ],
   "source": [
    "#import GPHRM\n",
    "import GPHRM"
   ]
  },
  {
   "cell_type": "code",
   "execution_count": null,
   "metadata": {
    "collapsed": true,
    "scrolled": false
   },
   "outputs": [],
   "source": [
    "#to run 5-fold CV on dataset\n",
    "GPHRM.run(3012)"
   ]
  },
  {
   "cell_type": "code",
   "execution_count": null,
   "metadata": {},
   "outputs": [],
   "source": [
    "#To train/score full model\n",
    "# training dataset id = 3012 and score dataset id = 3011\n",
    "GPHRM.score(3012,3011,1.5,method='MCML',z=1,fitTwice=False)"
   ]
  },
  {
   "cell_type": "code",
   "execution_count": null,
   "metadata": {
    "collapsed": true
   },
   "outputs": [],
   "source": [
    "#see pictures in folder for results"
   ]
  },
  {
   "cell_type": "code",
   "execution_count": null,
   "metadata": {
    "collapsed": true
   },
   "outputs": [],
   "source": [
    "import pandas as pd\n",
    "rsltDF = pd.read_excel('../savedModels/prd3012.xlsx')"
   ]
  },
  {
   "cell_type": "code",
   "execution_count": null,
   "metadata": {
    "collapsed": true
   },
   "outputs": [],
   "source": [
    "rsltDF['Category'] = rsltDF.loc[:,['x5%','x10%','x20%','x35%','x50%']].apply(lambda x: np.argmin([100 if i<0.85 else i for i in x.values])+2,axis=1)\n",
    "rsltDF.loc[rsltDF['x5%']<=0.85,'Category'] = 1"
   ]
  },
  {
   "cell_type": "code",
   "execution_count": null,
   "metadata": {
    "collapsed": true
   },
   "outputs": [],
   "source": [
    "#Plot Voronoi diagram\n",
    "from shapely.ops import polygonize\n",
    "from shapely.geometry import LineString, MultiPolygon, MultiPoint, Point\n",
    "from scipy.spatial import Voronoi\n",
    "\n",
    "points = rsltDF.loc[:,['gpsLatitude','gpsLongitude']].values\n",
    "\n",
    "vor = Voronoi(points)\n",
    "\n",
    "lines = [LineString(vor.vertices[line])for line in vor.ridge_vertices if -1 not in line]\n",
    "\n",
    "convex_hull = MultiPoint([Point(i) for i in points]).convex_hull.buffer(2)\n",
    "result = MultiPolygon([poly.intersection(convex_hull) for poly in polygonize(lines)])\n",
    "\n",
    "#pts = MultiPoint([Point(i) for i in points])\n",
    "#mask = pts.convex_hull.union(pts.buffer(10, resolution=5, cap_style=3))\n",
    "#result = MultiPolygon([poly.intersection(mask) for poly in polygonize(lines)])"
   ]
  },
  {
   "cell_type": "code",
   "execution_count": null,
   "metadata": {
    "collapsed": true
   },
   "outputs": [],
   "source": [
    "import matplotlib as mpl\n",
    "import matplotlib.cm as cm\n",
    "import matplotlib.pyplot as plt\n",
    "from scipy.spatial import voronoi_plot_2d\n",
    "\n",
    "%matplotlib qt\n",
    "    \n",
    "# normalize chosen colormap\n",
    "norm = mpl.colors.Normalize(vmin=1, vmax=6, clip=True)\n",
    "mapper = cm.ScalarMappable(norm=norm, cmap=cm.RdYlGn)\n",
    "\n",
    "# plot Voronoi diagram, and fill finite regions with color mapped from speed value\n",
    "voronoi_plot_2d(vor, show_points=False, show_vertices=False, s=1)\n",
    "for r in range(len(vor.point_region)):\n",
    "    region = vor.regions[vor.point_region[r]]\n",
    "    if not -1 in region:\n",
    "        polygon = [vor.vertices[i] for i in region]\n",
    "        plt.fill(*zip(*polygon), color=mapper.to_rgba(7-rsltDF.loc[r,'Category']))\n",
    "plt.show()"
   ]
  },
  {
   "cell_type": "code",
   "execution_count": null,
   "metadata": {
    "collapsed": true
   },
   "outputs": [],
   "source": [
    "#see vornoi plot in folder for results"
   ]
  }
 ],
 "metadata": {
  "kernelspec": {
   "display_name": "Python [conda env:py3]",
   "language": "python",
   "name": "conda-env-py3-py"
  },
  "language_info": {
   "codemirror_mode": {
    "name": "ipython",
    "version": 3
   },
   "file_extension": ".py",
   "mimetype": "text/x-python",
   "name": "python",
   "nbconvert_exporter": "python",
   "pygments_lexer": "ipython3",
   "version": "3.6.5"
  }
 },
 "nbformat": 4,
 "nbformat_minor": 2
}
