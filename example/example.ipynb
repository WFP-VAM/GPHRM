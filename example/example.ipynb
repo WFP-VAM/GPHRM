{
 "cells": [
  {
   "cell_type": "code",
   "execution_count": null,
   "metadata": {},
   "outputs": [],
   "source": [
    "import sys\n",
    "sys.path.append('/media/pato/DATA/Dev-VAM/GPHRM')  \n",
    "from GPHRM import GPHRM"
   ]
  },
  {
   "cell_type": "code",
   "execution_count": null,
   "metadata": {
    "collapsed": true
   },
   "outputs": [],
   "source": [
    "from GPHRM import score"
   ]
  },
  {
   "cell_type": "code",
   "execution_count": null,
   "metadata": {
    "scrolled": false
   },
   "outputs": [],
   "source": [
    "score(3012,3011,1.5,method='MCML',z=1,fitTwice=False)"
   ]
  },
  {
   "cell_type": "code",
   "execution_count": null,
   "metadata": {
    "collapsed": true
   },
   "outputs": [],
   "source": [
    "import pandas as pd\n",
    "import yaml\n",
    "import sqlalchemy\n",
    "from sqlalchemy import Column, Integer, Float, String, create_engine  \n",
    "from sqlalchemy.dialects.postgresql import JSON, JSONB"
   ]
  },
  {
   "cell_type": "code",
   "execution_count": null,
   "metadata": {
    "collapsed": true
   },
   "outputs": [],
   "source": [
    "rsltDF = pd.read_excel('/media/pato/DATA/Dev-VAM/GPHRM/savedModels/prd3012.xlsx')\n",
    "trainID = 3012\n",
    "scoreID = 3011\n",
    "kappa = 0.5\n",
    "method = 'MCML'\n",
    "z = 1\n",
    "mdlFilepath = '/media/pato/DATA/Dev-VAM/GPHRM/savedModels/mdl3012.RData'\n",
    "\n",
    "#Connect to database\n",
    "with open('../HRM/private_config.yml', 'r') as cfgfile:\n",
    "    private_config = yaml.load(cfgfile)\n",
    "\n",
    "engine = create_engine(\"\"\"postgresql+psycopg2://{}:{}@{}/{}\"\"\"\n",
    "                   .format(private_config['DB']['user'], private_config['DB']['password'],\n",
    "                           private_config['DB']['host'], private_config['DB']['database']))\n",
    "\n",
    "# Prepare SQL\n",
    "rsltTbl = sqlalchemy.table(\"gp_predict\",Column('train_config_id', Integer),\n",
    "                                        Column('score_config_id', Integer),\n",
    "                                        Column('model_save_file', String),\n",
    "                                        Column('hyperparams',JSON),\n",
    "                                        Column('predict_gps', JSON),\n",
    "                                        Column('predict_score', JSON),\n",
    "                                        Column('predict_error',JSON),\n",
    "                                        Column('exceednc_prob',JSON))\n",
    "\n",
    "#compile insert statement\n",
    "statement = rsltTbl.insert().values(train_config_id = trainID,\n",
    "                                    score_config_id = scoreID,\n",
    "                                    model_save_file = mdlFilepath,\n",
    "                                    hyperparams = {'kappa':kappa,'method':method,'z':z},\n",
    "                                    predict_gps = rsltDF.iloc[:,[0,1,2,3]].to_json(),\n",
    "                                    predict_score = rsltDF.iloc[:,[0,1,4]].to_json(),\n",
    "                                    predict_error = rsltDF.iloc[:,[0,1,5,6,7,8,9,10]].to_json(),\n",
    "                                    exceednc_prob = rsltDF.iloc[:,[0,1,11,12,13,14,15]].to_json()\n",
    "                                   )\n",
    "\n",
    "#Execute insert\n",
    "engine.execute(statement)\n",
    "print('finished writing results to database - creating raster')"
   ]
  },
  {
   "cell_type": "code",
   "execution_count": 1,
   "metadata": {},
   "outputs": [],
   "source": [
    "import pandas as pd\n",
    "rsltDF = pd.read_excel('/media/pato/DATA/Dev-VAM/GPHRM/savedModels/prd3012.xlsx')"
   ]
  },
  {
   "cell_type": "code",
   "execution_count": 2,
   "metadata": {},
   "outputs": [],
   "source": [
    "import numpy as np\n",
    "import pdb"
   ]
  },
  {
   "cell_type": "code",
   "execution_count": 18,
   "metadata": {},
   "outputs": [],
   "source": [
    "rsltDF['Category'] = rsltDF.loc[:,['x5%','x10%','x20%','x35%','x50%']].apply(lambda x: np.argmin([100 if i<0.85 else i for i in x.values])+2,axis=1)\n",
    "rsltDF.loc[rsltDF['x5%']<=0.85,'Category'] = 1"
   ]
  },
  {
   "cell_type": "code",
   "execution_count": 4,
   "metadata": {},
   "outputs": [],
   "source": [
    "import os\n",
    "import sys\n",
    "sys.path.append('/media/pato/DATA/Dev-VAM/HRM')  "
   ]
  },
  {
   "cell_type": "code",
   "execution_count": 5,
   "metadata": {},
   "outputs": [],
   "source": [
    "from Src import utils as HRMutils"
   ]
  },
  {
   "cell_type": "code",
   "execution_count": 10,
   "metadata": {},
   "outputs": [
    {
     "data": {
      "text/plain": [
       "Index(['i', 'j', 'gpsLatitude', 'gpsLongitude', 'prevalence', 'stdError', '5%',\n",
       "       '10%', '50%', '90%', '95%', 'x5%', 'x10%', 'x20%', 'x35%', 'x50%',\n",
       "       'Category'],\n",
       "      dtype='object')"
      ]
     },
     "execution_count": 10,
     "metadata": {},
     "output_type": "execute_result"
    }
   ],
   "source": [
    "rsltDF.columns"
   ]
  },
  {
   "cell_type": "code",
   "execution_count": 11,
   "metadata": {},
   "outputs": [
    {
     "name": "stdout",
     "output_type": "stream",
     "text": [
      "INFO: aggregating raster ...\n",
      "3701\n",
      "-> writing:  /media/pato/DATA/Dev-VAM/GPHRM/SierraLeoneStdError.tif\n"
     ]
    }
   ],
   "source": [
    "HRMutils.tifgenerator('/media/pato/DATA/Dev-VAM/GPHRM/SierraLeoneStdError.tif',\n",
    "                      '/media/pato/DATA/Dev-VAM/GPHRM/SierraLeonePop/SLE14adjv1.tif',\n",
    "                      rsltDF,'stdError',aggregate_factor=10,crop=True)"
   ]
  },
  {
   "cell_type": "code",
   "execution_count": 12,
   "metadata": {},
   "outputs": [],
   "source": [
    "from shapely.ops import polygonize\n",
    "from shapely.geometry import LineString, MultiPolygon, MultiPoint, Point\n",
    "from scipy.spatial import Voronoi\n",
    "\n",
    "points = rsltDF.loc[:,['gpsLatitude','gpsLongitude']].values\n",
    "\n",
    "vor = Voronoi(points)\n",
    "\n",
    "lines = [LineString(vor.vertices[line])for line in vor.ridge_vertices if -1 not in line]\n",
    "\n",
    "convex_hull = MultiPoint([Point(i) for i in points]).convex_hull.buffer(2)\n",
    "result = MultiPolygon([poly.intersection(convex_hull) for poly in polygonize(lines)])\n",
    "\n",
    "#pts = MultiPoint([Point(i) for i in points])\n",
    "#mask = pts.convex_hull.union(pts.buffer(10, resolution=5, cap_style=3))\n",
    "#result = MultiPolygon([poly.intersection(mask) for poly in polygonize(lines)])"
   ]
  },
  {
   "cell_type": "code",
   "execution_count": 24,
   "metadata": {},
   "outputs": [],
   "source": [
    "import matplotlib as mpl\n",
    "import matplotlib.cm as cm\n",
    "import matplotlib.pyplot as plt\n",
    "from scipy.spatial import voronoi_plot_2d\n",
    "\n",
    "%matplotlib qt\n",
    "    \n",
    "# normalize chosen colormap\n",
    "norm = mpl.colors.Normalize(vmin=1, vmax=6, clip=True)\n",
    "mapper = cm.ScalarMappable(norm=norm, cmap=cm.RdYlGn)\n",
    "\n",
    "# plot Voronoi diagram, and fill finite regions with color mapped from speed value\n",
    "voronoi_plot_2d(vor, show_points=False, show_vertices=False, s=1)\n",
    "for r in range(len(vor.point_region)):\n",
    "    region = vor.regions[vor.point_region[r]]\n",
    "    if not -1 in region:\n",
    "        polygon = [vor.vertices[i] for i in region]\n",
    "        plt.fill(*zip(*polygon), color=mapper.to_rgba(7-rsltDF.loc[r,'Category']))\n",
    "plt.show()"
   ]
  },
  {
   "cell_type": "code",
   "execution_count": 19,
   "metadata": {},
   "outputs": [
    {
     "data": {
      "text/plain": [
       "array([5, 6, 4, 2, 3, 1])"
      ]
     },
     "execution_count": 19,
     "metadata": {},
     "output_type": "execute_result"
    }
   ],
   "source": [
    "rsltDF['Category'].unique()"
   ]
  },
  {
   "cell_type": "code",
   "execution_count": null,
   "metadata": {
    "collapsed": true
   },
   "outputs": [],
   "source": []
  }
 ],
 "metadata": {
  "kernelspec": {
   "display_name": "Python [conda env:py3]",
   "language": "python",
   "name": "conda-env-py3-py"
  },
  "language_info": {
   "codemirror_mode": {
    "name": "ipython",
    "version": 3
   },
   "file_extension": ".py",
   "mimetype": "text/x-python",
   "name": "python",
   "nbconvert_exporter": "python",
   "pygments_lexer": "ipython3",
   "version": "3.6.5"
  }
 },
 "nbformat": 4,
 "nbformat_minor": 2
}
